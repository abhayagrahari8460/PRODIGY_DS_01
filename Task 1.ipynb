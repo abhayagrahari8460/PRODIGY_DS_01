{
 "cells": [
  {
   "cell_type": "code",
   "execution_count": 1,
   "id": "86740f5e",
   "metadata": {},
   "outputs": [],
   "source": [
    "import pandas as pd\n",
    "import numpy as np\n",
    "import seaborn as sns\n",
    "import matplotlib.pyplot as plt"
   ]
  },
  {
   "cell_type": "markdown",
   "id": "521df0a7",
   "metadata": {},
   "source": [
    "# Load the dataset\n"
   ]
  },
  {
   "cell_type": "code",
   "execution_count": 67,
   "id": "b99d9341",
   "metadata": {},
   "outputs": [],
   "source": [
    "df = pd.read_csv(\"WorldPopulationData.csv\")"
   ]
  },
  {
   "cell_type": "code",
   "execution_count": 93,
   "id": "9cf81c48",
   "metadata": {
    "scrolled": true
   },
   "outputs": [
    {
     "data": {
      "text/html": [
       "<div>\n",
       "<style scoped>\n",
       "    .dataframe tbody tr th:only-of-type {\n",
       "        vertical-align: middle;\n",
       "    }\n",
       "\n",
       "    .dataframe tbody tr th {\n",
       "        vertical-align: top;\n",
       "    }\n",
       "\n",
       "    .dataframe thead th {\n",
       "        text-align: right;\n",
       "    }\n",
       "</style>\n",
       "<table border=\"1\" class=\"dataframe\">\n",
       "  <thead>\n",
       "    <tr style=\"text-align: right;\">\n",
       "      <th></th>\n",
       "      <th>Series Code</th>\n",
       "      <th>Country Code</th>\n",
       "      <th>1990 [YR1990]</th>\n",
       "      <th>2000 [YR2000]</th>\n",
       "      <th>2014 [YR2014]</th>\n",
       "      <th>2015 [YR2015]</th>\n",
       "      <th>2016 [YR2016]</th>\n",
       "      <th>2017 [YR2017]</th>\n",
       "      <th>2018 [YR2018]</th>\n",
       "      <th>2019 [YR2019]</th>\n",
       "      <th>2020 [YR2020]</th>\n",
       "      <th>2021 [YR2021]</th>\n",
       "      <th>2022 [YR2022]</th>\n",
       "      <th>2023 [YR2023]</th>\n",
       "    </tr>\n",
       "  </thead>\n",
       "  <tbody>\n",
       "    <tr>\n",
       "      <th>0</th>\n",
       "      <td>SP.POP.TOTL</td>\n",
       "      <td>AFG</td>\n",
       "      <td>10694796</td>\n",
       "      <td>19542982</td>\n",
       "      <td>32716210</td>\n",
       "      <td>33753499</td>\n",
       "      <td>34636207</td>\n",
       "      <td>35643418</td>\n",
       "      <td>36686784</td>\n",
       "      <td>37769499</td>\n",
       "      <td>38972230</td>\n",
       "      <td>40099462</td>\n",
       "      <td>41128771</td>\n",
       "      <td>42239854</td>\n",
       "    </tr>\n",
       "    <tr>\n",
       "      <th>1</th>\n",
       "      <td>SP.POP.TOTL</td>\n",
       "      <td>ALB</td>\n",
       "      <td>3286542</td>\n",
       "      <td>3089027</td>\n",
       "      <td>2889104</td>\n",
       "      <td>2880703</td>\n",
       "      <td>2876101</td>\n",
       "      <td>2873457</td>\n",
       "      <td>2866376</td>\n",
       "      <td>2854191</td>\n",
       "      <td>2837849</td>\n",
       "      <td>2811666</td>\n",
       "      <td>2777689</td>\n",
       "      <td>2745972</td>\n",
       "    </tr>\n",
       "    <tr>\n",
       "      <th>2</th>\n",
       "      <td>SP.POP.TOTL</td>\n",
       "      <td>DZA</td>\n",
       "      <td>25518074</td>\n",
       "      <td>30774621</td>\n",
       "      <td>38760168</td>\n",
       "      <td>39543154</td>\n",
       "      <td>40339329</td>\n",
       "      <td>41136546</td>\n",
       "      <td>41927007</td>\n",
       "      <td>42705368</td>\n",
       "      <td>43451666</td>\n",
       "      <td>44177969</td>\n",
       "      <td>44903225</td>\n",
       "      <td>45606480</td>\n",
       "    </tr>\n",
       "    <tr>\n",
       "      <th>3</th>\n",
       "      <td>SP.POP.TOTL</td>\n",
       "      <td>ASM</td>\n",
       "      <td>47818</td>\n",
       "      <td>58230</td>\n",
       "      <td>52217</td>\n",
       "      <td>51368</td>\n",
       "      <td>50448</td>\n",
       "      <td>49463</td>\n",
       "      <td>48424</td>\n",
       "      <td>47321</td>\n",
       "      <td>46189</td>\n",
       "      <td>45035</td>\n",
       "      <td>44273</td>\n",
       "      <td>43914</td>\n",
       "    </tr>\n",
       "    <tr>\n",
       "      <th>4</th>\n",
       "      <td>SP.POP.TOTL</td>\n",
       "      <td>AND</td>\n",
       "      <td>53569</td>\n",
       "      <td>66097</td>\n",
       "      <td>71621</td>\n",
       "      <td>71746</td>\n",
       "      <td>72540</td>\n",
       "      <td>73837</td>\n",
       "      <td>75013</td>\n",
       "      <td>76343</td>\n",
       "      <td>77700</td>\n",
       "      <td>79034</td>\n",
       "      <td>79824</td>\n",
       "      <td>80088</td>\n",
       "    </tr>\n",
       "    <tr>\n",
       "      <th>5</th>\n",
       "      <td>SP.POP.TOTL</td>\n",
       "      <td>AGO</td>\n",
       "      <td>11828638</td>\n",
       "      <td>16394062</td>\n",
       "      <td>27128337</td>\n",
       "      <td>28127721</td>\n",
       "      <td>29154746</td>\n",
       "      <td>30208628</td>\n",
       "      <td>31273533</td>\n",
       "      <td>32353588</td>\n",
       "      <td>33428486</td>\n",
       "      <td>34503774</td>\n",
       "      <td>35588987</td>\n",
       "      <td>36684202</td>\n",
       "    </tr>\n",
       "    <tr>\n",
       "      <th>6</th>\n",
       "      <td>SP.POP.TOTL</td>\n",
       "      <td>ATG</td>\n",
       "      <td>63328</td>\n",
       "      <td>75055</td>\n",
       "      <td>89236</td>\n",
       "      <td>89941</td>\n",
       "      <td>90564</td>\n",
       "      <td>91119</td>\n",
       "      <td>91626</td>\n",
       "      <td>92117</td>\n",
       "      <td>92664</td>\n",
       "      <td>93219</td>\n",
       "      <td>93763</td>\n",
       "      <td>94298</td>\n",
       "    </tr>\n",
       "    <tr>\n",
       "      <th>7</th>\n",
       "      <td>SP.POP.TOTL</td>\n",
       "      <td>ARG</td>\n",
       "      <td>32637657</td>\n",
       "      <td>37070774</td>\n",
       "      <td>42669500</td>\n",
       "      <td>43131966</td>\n",
       "      <td>43590368</td>\n",
       "      <td>44044811</td>\n",
       "      <td>44494502</td>\n",
       "      <td>44938712</td>\n",
       "      <td>45376763</td>\n",
       "      <td>45808747</td>\n",
       "      <td>46234830</td>\n",
       "      <td>46654581</td>\n",
       "    </tr>\n",
       "    <tr>\n",
       "      <th>8</th>\n",
       "      <td>SP.POP.TOTL</td>\n",
       "      <td>ARM</td>\n",
       "      <td>3556539</td>\n",
       "      <td>3168523</td>\n",
       "      <td>2889930</td>\n",
       "      <td>2878595</td>\n",
       "      <td>2865835</td>\n",
       "      <td>2851923</td>\n",
       "      <td>2836557</td>\n",
       "      <td>2820602</td>\n",
       "      <td>2805608</td>\n",
       "      <td>2790974</td>\n",
       "      <td>2780469</td>\n",
       "      <td>2777970</td>\n",
       "    </tr>\n",
       "    <tr>\n",
       "      <th>9</th>\n",
       "      <td>SP.POP.TOTL</td>\n",
       "      <td>ABW</td>\n",
       "      <td>65712</td>\n",
       "      <td>89101</td>\n",
       "      <td>103594</td>\n",
       "      <td>104257</td>\n",
       "      <td>104874</td>\n",
       "      <td>105439</td>\n",
       "      <td>105962</td>\n",
       "      <td>106442</td>\n",
       "      <td>106585</td>\n",
       "      <td>106537</td>\n",
       "      <td>106445</td>\n",
       "      <td>106277</td>\n",
       "    </tr>\n",
       "  </tbody>\n",
       "</table>\n",
       "</div>"
      ],
      "text/plain": [
       "   Series Code Country Code 1990 [YR1990] 2000 [YR2000] 2014 [YR2014]  \\\n",
       "0  SP.POP.TOTL          AFG      10694796      19542982      32716210   \n",
       "1  SP.POP.TOTL          ALB       3286542       3089027       2889104   \n",
       "2  SP.POP.TOTL          DZA      25518074      30774621      38760168   \n",
       "3  SP.POP.TOTL          ASM         47818         58230         52217   \n",
       "4  SP.POP.TOTL          AND         53569         66097         71621   \n",
       "5  SP.POP.TOTL          AGO      11828638      16394062      27128337   \n",
       "6  SP.POP.TOTL          ATG         63328         75055         89236   \n",
       "7  SP.POP.TOTL          ARG      32637657      37070774      42669500   \n",
       "8  SP.POP.TOTL          ARM       3556539       3168523       2889930   \n",
       "9  SP.POP.TOTL          ABW         65712         89101        103594   \n",
       "\n",
       "  2015 [YR2015] 2016 [YR2016] 2017 [YR2017] 2018 [YR2018] 2019 [YR2019]  \\\n",
       "0      33753499      34636207      35643418      36686784      37769499   \n",
       "1       2880703       2876101       2873457       2866376       2854191   \n",
       "2      39543154      40339329      41136546      41927007      42705368   \n",
       "3         51368         50448         49463         48424         47321   \n",
       "4         71746         72540         73837         75013         76343   \n",
       "5      28127721      29154746      30208628      31273533      32353588   \n",
       "6         89941         90564         91119         91626         92117   \n",
       "7      43131966      43590368      44044811      44494502      44938712   \n",
       "8       2878595       2865835       2851923       2836557       2820602   \n",
       "9        104257        104874        105439        105962        106442   \n",
       "\n",
       "  2020 [YR2020] 2021 [YR2021] 2022 [YR2022] 2023 [YR2023]  \n",
       "0      38972230      40099462      41128771      42239854  \n",
       "1       2837849       2811666       2777689       2745972  \n",
       "2      43451666      44177969      44903225      45606480  \n",
       "3         46189         45035         44273         43914  \n",
       "4         77700         79034         79824         80088  \n",
       "5      33428486      34503774      35588987      36684202  \n",
       "6         92664         93219         93763         94298  \n",
       "7      45376763      45808747      46234830      46654581  \n",
       "8       2805608       2790974       2780469       2777970  \n",
       "9        106585        106537        106445        106277  "
      ]
     },
     "execution_count": 93,
     "metadata": {},
     "output_type": "execute_result"
    }
   ],
   "source": [
    "df.head(10)"
   ]
  },
  {
   "cell_type": "code",
   "execution_count": 69,
   "id": "2a36f210",
   "metadata": {},
   "outputs": [
    {
     "data": {
      "text/html": [
       "<div>\n",
       "<style scoped>\n",
       "    .dataframe tbody tr th:only-of-type {\n",
       "        vertical-align: middle;\n",
       "    }\n",
       "\n",
       "    .dataframe tbody tr th {\n",
       "        vertical-align: top;\n",
       "    }\n",
       "\n",
       "    .dataframe thead th {\n",
       "        text-align: right;\n",
       "    }\n",
       "</style>\n",
       "<table border=\"1\" class=\"dataframe\">\n",
       "  <thead>\n",
       "    <tr style=\"text-align: right;\">\n",
       "      <th></th>\n",
       "      <th>Series Name</th>\n",
       "      <th>Series Code</th>\n",
       "      <th>Country Name</th>\n",
       "      <th>Country Code</th>\n",
       "      <th>1990 [YR1990]</th>\n",
       "      <th>2000 [YR2000]</th>\n",
       "      <th>2014 [YR2014]</th>\n",
       "      <th>2015 [YR2015]</th>\n",
       "      <th>2016 [YR2016]</th>\n",
       "      <th>2017 [YR2017]</th>\n",
       "      <th>2018 [YR2018]</th>\n",
       "      <th>2019 [YR2019]</th>\n",
       "      <th>2020 [YR2020]</th>\n",
       "      <th>2021 [YR2021]</th>\n",
       "      <th>2022 [YR2022]</th>\n",
       "      <th>2023 [YR2023]</th>\n",
       "    </tr>\n",
       "  </thead>\n",
       "  <tbody>\n",
       "    <tr>\n",
       "      <th>268</th>\n",
       "      <td>NaN</td>\n",
       "      <td>NaN</td>\n",
       "      <td>NaN</td>\n",
       "      <td>NaN</td>\n",
       "      <td>NaN</td>\n",
       "      <td>NaN</td>\n",
       "      <td>NaN</td>\n",
       "      <td>NaN</td>\n",
       "      <td>NaN</td>\n",
       "      <td>NaN</td>\n",
       "      <td>NaN</td>\n",
       "      <td>NaN</td>\n",
       "      <td>NaN</td>\n",
       "      <td>NaN</td>\n",
       "      <td>NaN</td>\n",
       "      <td>NaN</td>\n",
       "    </tr>\n",
       "    <tr>\n",
       "      <th>269</th>\n",
       "      <td>Data from database: World Development Indicators</td>\n",
       "      <td>NaN</td>\n",
       "      <td>NaN</td>\n",
       "      <td>NaN</td>\n",
       "      <td>NaN</td>\n",
       "      <td>NaN</td>\n",
       "      <td>NaN</td>\n",
       "      <td>NaN</td>\n",
       "      <td>NaN</td>\n",
       "      <td>NaN</td>\n",
       "      <td>NaN</td>\n",
       "      <td>NaN</td>\n",
       "      <td>NaN</td>\n",
       "      <td>NaN</td>\n",
       "      <td>NaN</td>\n",
       "      <td>NaN</td>\n",
       "    </tr>\n",
       "    <tr>\n",
       "      <th>270</th>\n",
       "      <td>Last Updated: 06/28/2024</td>\n",
       "      <td>NaN</td>\n",
       "      <td>NaN</td>\n",
       "      <td>NaN</td>\n",
       "      <td>NaN</td>\n",
       "      <td>NaN</td>\n",
       "      <td>NaN</td>\n",
       "      <td>NaN</td>\n",
       "      <td>NaN</td>\n",
       "      <td>NaN</td>\n",
       "      <td>NaN</td>\n",
       "      <td>NaN</td>\n",
       "      <td>NaN</td>\n",
       "      <td>NaN</td>\n",
       "      <td>NaN</td>\n",
       "      <td>NaN</td>\n",
       "    </tr>\n",
       "    <tr>\n",
       "      <th>271</th>\n",
       "      <td>Code</td>\n",
       "      <td>License Type</td>\n",
       "      <td>Indicator Name</td>\n",
       "      <td>Long definition</td>\n",
       "      <td>Source</td>\n",
       "      <td>Topic</td>\n",
       "      <td>Periodicity</td>\n",
       "      <td>Aggregation method</td>\n",
       "      <td>Statistical concept and methodology</td>\n",
       "      <td>Development relevance</td>\n",
       "      <td>Limitations and exceptions</td>\n",
       "      <td>General comments</td>\n",
       "      <td>License URL</td>\n",
       "      <td>NaN</td>\n",
       "      <td>NaN</td>\n",
       "      <td>NaN</td>\n",
       "    </tr>\n",
       "    <tr>\n",
       "      <th>272</th>\n",
       "      <td>SP.POP.TOTL</td>\n",
       "      <td>CC BY-4.0</td>\n",
       "      <td>Population, total</td>\n",
       "      <td>Total population is based on the de facto defi...</td>\n",
       "      <td>(1) United Nations Population Division. World ...</td>\n",
       "      <td>Health: Population: Structure</td>\n",
       "      <td>Annual</td>\n",
       "      <td>Sum</td>\n",
       "      <td>Population estimates are usually based on nati...</td>\n",
       "      <td>Increases in human population, whether as a re...</td>\n",
       "      <td>Current population estimates for developing co...</td>\n",
       "      <td>Relevance to gender indicator: disaggregating ...</td>\n",
       "      <td>https://datacatalog.worldbank.org/public-licen...</td>\n",
       "      <td>NaN</td>\n",
       "      <td>NaN</td>\n",
       "      <td>NaN</td>\n",
       "    </tr>\n",
       "  </tbody>\n",
       "</table>\n",
       "</div>"
      ],
      "text/plain": [
       "                                          Series Name   Series Code  \\\n",
       "268                                               NaN           NaN   \n",
       "269  Data from database: World Development Indicators           NaN   \n",
       "270                          Last Updated: 06/28/2024           NaN   \n",
       "271                                              Code  License Type   \n",
       "272                                       SP.POP.TOTL     CC BY-4.0   \n",
       "\n",
       "          Country Name                                       Country Code  \\\n",
       "268                NaN                                                NaN   \n",
       "269                NaN                                                NaN   \n",
       "270                NaN                                                NaN   \n",
       "271     Indicator Name                                    Long definition   \n",
       "272  Population, total  Total population is based on the de facto defi...   \n",
       "\n",
       "                                         1990 [YR1990]  \\\n",
       "268                                                NaN   \n",
       "269                                                NaN   \n",
       "270                                                NaN   \n",
       "271                                             Source   \n",
       "272  (1) United Nations Population Division. World ...   \n",
       "\n",
       "                     2000 [YR2000] 2014 [YR2014]       2015 [YR2015]  \\\n",
       "268                            NaN           NaN                 NaN   \n",
       "269                            NaN           NaN                 NaN   \n",
       "270                            NaN           NaN                 NaN   \n",
       "271                          Topic   Periodicity  Aggregation method   \n",
       "272  Health: Population: Structure        Annual                 Sum   \n",
       "\n",
       "                                         2016 [YR2016]  \\\n",
       "268                                                NaN   \n",
       "269                                                NaN   \n",
       "270                                                NaN   \n",
       "271                Statistical concept and methodology   \n",
       "272  Population estimates are usually based on nati...   \n",
       "\n",
       "                                         2017 [YR2017]  \\\n",
       "268                                                NaN   \n",
       "269                                                NaN   \n",
       "270                                                NaN   \n",
       "271                              Development relevance   \n",
       "272  Increases in human population, whether as a re...   \n",
       "\n",
       "                                         2018 [YR2018]  \\\n",
       "268                                                NaN   \n",
       "269                                                NaN   \n",
       "270                                                NaN   \n",
       "271                         Limitations and exceptions   \n",
       "272  Current population estimates for developing co...   \n",
       "\n",
       "                                         2019 [YR2019]  \\\n",
       "268                                                NaN   \n",
       "269                                                NaN   \n",
       "270                                                NaN   \n",
       "271                                   General comments   \n",
       "272  Relevance to gender indicator: disaggregating ...   \n",
       "\n",
       "                                         2020 [YR2020] 2021 [YR2021]  \\\n",
       "268                                                NaN           NaN   \n",
       "269                                                NaN           NaN   \n",
       "270                                                NaN           NaN   \n",
       "271                                        License URL           NaN   \n",
       "272  https://datacatalog.worldbank.org/public-licen...           NaN   \n",
       "\n",
       "    2022 [YR2022] 2023 [YR2023]  \n",
       "268           NaN           NaN  \n",
       "269           NaN           NaN  \n",
       "270           NaN           NaN  \n",
       "271           NaN           NaN  \n",
       "272           NaN           NaN  "
      ]
     },
     "execution_count": 69,
     "metadata": {},
     "output_type": "execute_result"
    }
   ],
   "source": [
    "df.tail(5)"
   ]
  },
  {
   "cell_type": "code",
   "execution_count": 70,
   "id": "f7ca74b3",
   "metadata": {},
   "outputs": [
    {
     "data": {
      "text/plain": [
       "Index(['Series Name', 'Series Code', 'Country Name', 'Country Code',\n",
       "       '1990 [YR1990]', '2000 [YR2000]', '2014 [YR2014]', '2015 [YR2015]',\n",
       "       '2016 [YR2016]', '2017 [YR2017]', '2018 [YR2018]', '2019 [YR2019]',\n",
       "       '2020 [YR2020]', '2021 [YR2021]', '2022 [YR2022]', '2023 [YR2023]'],\n",
       "      dtype='object')"
      ]
     },
     "execution_count": 70,
     "metadata": {},
     "output_type": "execute_result"
    }
   ],
   "source": [
    "df.columns"
   ]
  },
  {
   "cell_type": "code",
   "execution_count": null,
   "id": "29fbeb95",
   "metadata": {
    "scrolled": true
   },
   "outputs": [],
   "source": []
  },
  {
   "cell_type": "code",
   "execution_count": 71,
   "id": "d638ba40",
   "metadata": {},
   "outputs": [
    {
     "data": {
      "text/plain": [
       "<bound method DataFrame.info of                                           Series Name   Series Code  \\\n",
       "0                                   Population, total   SP.POP.TOTL   \n",
       "1                                   Population, total   SP.POP.TOTL   \n",
       "2                                   Population, total   SP.POP.TOTL   \n",
       "3                                   Population, total   SP.POP.TOTL   \n",
       "4                                   Population, total   SP.POP.TOTL   \n",
       "..                                                ...           ...   \n",
       "268                                               NaN           NaN   \n",
       "269  Data from database: World Development Indicators           NaN   \n",
       "270                          Last Updated: 06/28/2024           NaN   \n",
       "271                                              Code  License Type   \n",
       "272                                       SP.POP.TOTL     CC BY-4.0   \n",
       "\n",
       "          Country Name                                       Country Code  \\\n",
       "0          Afghanistan                                                AFG   \n",
       "1              Albania                                                ALB   \n",
       "2              Algeria                                                DZA   \n",
       "3       American Samoa                                                ASM   \n",
       "4              Andorra                                                AND   \n",
       "..                 ...                                                ...   \n",
       "268                NaN                                                NaN   \n",
       "269                NaN                                                NaN   \n",
       "270                NaN                                                NaN   \n",
       "271     Indicator Name                                    Long definition   \n",
       "272  Population, total  Total population is based on the de facto defi...   \n",
       "\n",
       "                                         1990 [YR1990]  \\\n",
       "0                                             10694796   \n",
       "1                                              3286542   \n",
       "2                                             25518074   \n",
       "3                                                47818   \n",
       "4                                                53569   \n",
       "..                                                 ...   \n",
       "268                                                NaN   \n",
       "269                                                NaN   \n",
       "270                                                NaN   \n",
       "271                                             Source   \n",
       "272  (1) United Nations Population Division. World ...   \n",
       "\n",
       "                     2000 [YR2000] 2014 [YR2014]       2015 [YR2015]  \\\n",
       "0                         19542982      32716210            33753499   \n",
       "1                          3089027       2889104             2880703   \n",
       "2                         30774621      38760168            39543154   \n",
       "3                            58230         52217               51368   \n",
       "4                            66097         71621               71746   \n",
       "..                             ...           ...                 ...   \n",
       "268                            NaN           NaN                 NaN   \n",
       "269                            NaN           NaN                 NaN   \n",
       "270                            NaN           NaN                 NaN   \n",
       "271                          Topic   Periodicity  Aggregation method   \n",
       "272  Health: Population: Structure        Annual                 Sum   \n",
       "\n",
       "                                         2016 [YR2016]  \\\n",
       "0                                             34636207   \n",
       "1                                              2876101   \n",
       "2                                             40339329   \n",
       "3                                                50448   \n",
       "4                                                72540   \n",
       "..                                                 ...   \n",
       "268                                                NaN   \n",
       "269                                                NaN   \n",
       "270                                                NaN   \n",
       "271                Statistical concept and methodology   \n",
       "272  Population estimates are usually based on nati...   \n",
       "\n",
       "                                         2017 [YR2017]  \\\n",
       "0                                             35643418   \n",
       "1                                              2873457   \n",
       "2                                             41136546   \n",
       "3                                                49463   \n",
       "4                                                73837   \n",
       "..                                                 ...   \n",
       "268                                                NaN   \n",
       "269                                                NaN   \n",
       "270                                                NaN   \n",
       "271                              Development relevance   \n",
       "272  Increases in human population, whether as a re...   \n",
       "\n",
       "                                         2018 [YR2018]  \\\n",
       "0                                             36686784   \n",
       "1                                              2866376   \n",
       "2                                             41927007   \n",
       "3                                                48424   \n",
       "4                                                75013   \n",
       "..                                                 ...   \n",
       "268                                                NaN   \n",
       "269                                                NaN   \n",
       "270                                                NaN   \n",
       "271                         Limitations and exceptions   \n",
       "272  Current population estimates for developing co...   \n",
       "\n",
       "                                         2019 [YR2019]  \\\n",
       "0                                             37769499   \n",
       "1                                              2854191   \n",
       "2                                             42705368   \n",
       "3                                                47321   \n",
       "4                                                76343   \n",
       "..                                                 ...   \n",
       "268                                                NaN   \n",
       "269                                                NaN   \n",
       "270                                                NaN   \n",
       "271                                   General comments   \n",
       "272  Relevance to gender indicator: disaggregating ...   \n",
       "\n",
       "                                         2020 [YR2020] 2021 [YR2021]  \\\n",
       "0                                             38972230      40099462   \n",
       "1                                              2837849       2811666   \n",
       "2                                             43451666      44177969   \n",
       "3                                                46189         45035   \n",
       "4                                                77700         79034   \n",
       "..                                                 ...           ...   \n",
       "268                                                NaN           NaN   \n",
       "269                                                NaN           NaN   \n",
       "270                                                NaN           NaN   \n",
       "271                                        License URL           NaN   \n",
       "272  https://datacatalog.worldbank.org/public-licen...           NaN   \n",
       "\n",
       "    2022 [YR2022] 2023 [YR2023]  \n",
       "0        41128771      42239854  \n",
       "1         2777689       2745972  \n",
       "2        44903225      45606480  \n",
       "3           44273         43914  \n",
       "4           79824         80088  \n",
       "..            ...           ...  \n",
       "268           NaN           NaN  \n",
       "269           NaN           NaN  \n",
       "270           NaN           NaN  \n",
       "271           NaN           NaN  \n",
       "272           NaN           NaN  \n",
       "\n",
       "[273 rows x 16 columns]>"
      ]
     },
     "execution_count": 71,
     "metadata": {},
     "output_type": "execute_result"
    }
   ],
   "source": [
    "df.info"
   ]
  },
  {
   "cell_type": "code",
   "execution_count": null,
   "id": "6751527d",
   "metadata": {},
   "outputs": [],
   "source": [
    "\n"
   ]
  },
  {
   "cell_type": "code",
   "execution_count": 72,
   "id": "24801e16",
   "metadata": {
    "scrolled": false
   },
   "outputs": [
    {
     "data": {
      "text/plain": [
       "<bound method NDFrame.describe of                                           Series Name   Series Code  \\\n",
       "0                                   Population, total   SP.POP.TOTL   \n",
       "1                                   Population, total   SP.POP.TOTL   \n",
       "2                                   Population, total   SP.POP.TOTL   \n",
       "3                                   Population, total   SP.POP.TOTL   \n",
       "4                                   Population, total   SP.POP.TOTL   \n",
       "..                                                ...           ...   \n",
       "268                                               NaN           NaN   \n",
       "269  Data from database: World Development Indicators           NaN   \n",
       "270                          Last Updated: 06/28/2024           NaN   \n",
       "271                                              Code  License Type   \n",
       "272                                       SP.POP.TOTL     CC BY-4.0   \n",
       "\n",
       "          Country Name                                       Country Code  \\\n",
       "0          Afghanistan                                                AFG   \n",
       "1              Albania                                                ALB   \n",
       "2              Algeria                                                DZA   \n",
       "3       American Samoa                                                ASM   \n",
       "4              Andorra                                                AND   \n",
       "..                 ...                                                ...   \n",
       "268                NaN                                                NaN   \n",
       "269                NaN                                                NaN   \n",
       "270                NaN                                                NaN   \n",
       "271     Indicator Name                                    Long definition   \n",
       "272  Population, total  Total population is based on the de facto defi...   \n",
       "\n",
       "                                         1990 [YR1990]  \\\n",
       "0                                             10694796   \n",
       "1                                              3286542   \n",
       "2                                             25518074   \n",
       "3                                                47818   \n",
       "4                                                53569   \n",
       "..                                                 ...   \n",
       "268                                                NaN   \n",
       "269                                                NaN   \n",
       "270                                                NaN   \n",
       "271                                             Source   \n",
       "272  (1) United Nations Population Division. World ...   \n",
       "\n",
       "                     2000 [YR2000] 2014 [YR2014]       2015 [YR2015]  \\\n",
       "0                         19542982      32716210            33753499   \n",
       "1                          3089027       2889104             2880703   \n",
       "2                         30774621      38760168            39543154   \n",
       "3                            58230         52217               51368   \n",
       "4                            66097         71621               71746   \n",
       "..                             ...           ...                 ...   \n",
       "268                            NaN           NaN                 NaN   \n",
       "269                            NaN           NaN                 NaN   \n",
       "270                            NaN           NaN                 NaN   \n",
       "271                          Topic   Periodicity  Aggregation method   \n",
       "272  Health: Population: Structure        Annual                 Sum   \n",
       "\n",
       "                                         2016 [YR2016]  \\\n",
       "0                                             34636207   \n",
       "1                                              2876101   \n",
       "2                                             40339329   \n",
       "3                                                50448   \n",
       "4                                                72540   \n",
       "..                                                 ...   \n",
       "268                                                NaN   \n",
       "269                                                NaN   \n",
       "270                                                NaN   \n",
       "271                Statistical concept and methodology   \n",
       "272  Population estimates are usually based on nati...   \n",
       "\n",
       "                                         2017 [YR2017]  \\\n",
       "0                                             35643418   \n",
       "1                                              2873457   \n",
       "2                                             41136546   \n",
       "3                                                49463   \n",
       "4                                                73837   \n",
       "..                                                 ...   \n",
       "268                                                NaN   \n",
       "269                                                NaN   \n",
       "270                                                NaN   \n",
       "271                              Development relevance   \n",
       "272  Increases in human population, whether as a re...   \n",
       "\n",
       "                                         2018 [YR2018]  \\\n",
       "0                                             36686784   \n",
       "1                                              2866376   \n",
       "2                                             41927007   \n",
       "3                                                48424   \n",
       "4                                                75013   \n",
       "..                                                 ...   \n",
       "268                                                NaN   \n",
       "269                                                NaN   \n",
       "270                                                NaN   \n",
       "271                         Limitations and exceptions   \n",
       "272  Current population estimates for developing co...   \n",
       "\n",
       "                                         2019 [YR2019]  \\\n",
       "0                                             37769499   \n",
       "1                                              2854191   \n",
       "2                                             42705368   \n",
       "3                                                47321   \n",
       "4                                                76343   \n",
       "..                                                 ...   \n",
       "268                                                NaN   \n",
       "269                                                NaN   \n",
       "270                                                NaN   \n",
       "271                                   General comments   \n",
       "272  Relevance to gender indicator: disaggregating ...   \n",
       "\n",
       "                                         2020 [YR2020] 2021 [YR2021]  \\\n",
       "0                                             38972230      40099462   \n",
       "1                                              2837849       2811666   \n",
       "2                                             43451666      44177969   \n",
       "3                                                46189         45035   \n",
       "4                                                77700         79034   \n",
       "..                                                 ...           ...   \n",
       "268                                                NaN           NaN   \n",
       "269                                                NaN           NaN   \n",
       "270                                                NaN           NaN   \n",
       "271                                        License URL           NaN   \n",
       "272  https://datacatalog.worldbank.org/public-licen...           NaN   \n",
       "\n",
       "    2022 [YR2022] 2023 [YR2023]  \n",
       "0        41128771      42239854  \n",
       "1         2777689       2745972  \n",
       "2        44903225      45606480  \n",
       "3           44273         43914  \n",
       "4           79824         80088  \n",
       "..            ...           ...  \n",
       "268           NaN           NaN  \n",
       "269           NaN           NaN  \n",
       "270           NaN           NaN  \n",
       "271           NaN           NaN  \n",
       "272           NaN           NaN  \n",
       "\n",
       "[273 rows x 16 columns]>"
      ]
     },
     "execution_count": 72,
     "metadata": {},
     "output_type": "execute_result"
    }
   ],
   "source": [
    "df.describe"
   ]
  },
  {
   "cell_type": "code",
   "execution_count": 73,
   "id": "9f79c216",
   "metadata": {},
   "outputs": [],
   "source": [
    "## checking for dublicate value"
   ]
  },
  {
   "cell_type": "code",
   "execution_count": 74,
   "id": "1cb611e7",
   "metadata": {},
   "outputs": [
    {
     "data": {
      "text/plain": [
       "2"
      ]
     },
     "execution_count": 74,
     "metadata": {},
     "output_type": "execute_result"
    }
   ],
   "source": [
    "df.duplicated().sum()"
   ]
  },
  {
   "cell_type": "code",
   "execution_count": 75,
   "id": "5a91943c",
   "metadata": {
    "scrolled": true
   },
   "outputs": [
    {
     "data": {
      "text/plain": [
       "Series Name      3\n",
       "Series Code      5\n",
       "Country Name     5\n",
       "Country Code     5\n",
       "1990 [YR1990]    5\n",
       "2000 [YR2000]    5\n",
       "2014 [YR2014]    5\n",
       "2015 [YR2015]    5\n",
       "2016 [YR2016]    5\n",
       "2017 [YR2017]    5\n",
       "2018 [YR2018]    5\n",
       "2019 [YR2019]    5\n",
       "2020 [YR2020]    5\n",
       "2021 [YR2021]    7\n",
       "2022 [YR2022]    7\n",
       "2023 [YR2023]    7\n",
       "dtype: int64"
      ]
     },
     "execution_count": 75,
     "metadata": {},
     "output_type": "execute_result"
    }
   ],
   "source": [
    "df.isna().sum()"
   ]
  },
  {
   "cell_type": "code",
   "execution_count": 76,
   "id": "e587af97",
   "metadata": {},
   "outputs": [],
   "source": [
    "## checking unique vaue for columns "
   ]
  },
  {
   "cell_type": "code",
   "execution_count": 11,
   "id": "c979f360",
   "metadata": {
    "scrolled": true
   },
   "outputs": [
    {
     "name": "stdout",
     "output_type": "stream",
     "text": [
      "['Afghanistan' 'Albania' 'Algeria' 'American Samoa' 'Andorra' 'Angola'\n",
      " 'Antigua and Barbuda' 'Argentina' 'Armenia' 'Aruba' 'Australia' 'Austria'\n",
      " 'Azerbaijan' 'Bahamas, The' 'Bahrain' 'Bangladesh' 'Barbados' 'Belarus'\n",
      " 'Belgium' 'Belize' 'Benin' 'Bermuda' 'Bhutan' 'Bolivia'\n",
      " 'Bosnia and Herzegovina' 'Botswana' 'Brazil' 'British Virgin Islands'\n",
      " 'Brunei Darussalam' 'Bulgaria' 'Burkina Faso' 'Burundi' 'Cabo Verde'\n",
      " 'Cambodia' 'Cameroon' 'Canada' 'Cayman Islands'\n",
      " 'Central African Republic' 'Chad' 'Channel Islands' 'Chile' 'China'\n",
      " 'Colombia' 'Comoros' 'Congo, Dem. Rep.' 'Congo, Rep.' 'Costa Rica'\n",
      " \"Cote d'Ivoire\" 'Croatia' 'Cuba' 'Curacao' 'Cyprus' 'Czechia' 'Denmark'\n",
      " 'Djibouti' 'Dominica' 'Dominican Republic' 'Ecuador' 'Egypt, Arab Rep.'\n",
      " 'El Salvador' 'Equatorial Guinea' 'Eritrea' 'Estonia' 'Eswatini'\n",
      " 'Ethiopia' 'Faroe Islands' 'Fiji' 'Finland' 'France' 'French Polynesia'\n",
      " 'Gabon' 'Gambia, The' 'Georgia' 'Germany' 'Ghana' 'Gibraltar' 'Greece'\n",
      " 'Greenland' 'Grenada' 'Guam' 'Guatemala' 'Guinea' 'Guinea-Bissau'\n",
      " 'Guyana' 'Haiti' 'Honduras' 'Hong Kong SAR, China' 'Hungary' 'Iceland'\n",
      " 'India' 'Indonesia' 'Iran, Islamic Rep.' 'Iraq' 'Ireland' 'Isle of Man'\n",
      " 'Israel' 'Italy' 'Jamaica' 'Japan' 'Jordan' 'Kazakhstan' 'Kenya'\n",
      " 'Kiribati' \"Korea, Dem. People's Rep.\" 'Korea, Rep.' 'Kosovo' 'Kuwait'\n",
      " 'Kyrgyz Republic' 'Lao PDR' 'Latvia' 'Lebanon' 'Lesotho' 'Liberia'\n",
      " 'Libya' 'Liechtenstein' 'Lithuania' 'Luxembourg' 'Macao SAR, China'\n",
      " 'Madagascar' 'Malawi' 'Malaysia' 'Maldives' 'Mali' 'Malta'\n",
      " 'Marshall Islands' 'Mauritania' 'Mauritius' 'Mexico'\n",
      " 'Micronesia, Fed. Sts.' 'Moldova' 'Monaco' 'Mongolia' 'Montenegro'\n",
      " 'Morocco' 'Mozambique' 'Myanmar' 'Namibia' 'Nauru' 'Nepal' 'Netherlands'\n",
      " 'New Caledonia' 'New Zealand' 'Nicaragua' 'Niger' 'Nigeria'\n",
      " 'North Macedonia' 'Northern Mariana Islands' 'Norway' 'Oman' 'Pakistan'\n",
      " 'Palau' 'Panama' 'Papua New Guinea' 'Paraguay' 'Peru' 'Philippines'\n",
      " 'Poland' 'Portugal' 'Puerto Rico' 'Qatar' 'Romania' 'Russian Federation'\n",
      " 'Rwanda' 'Samoa' 'San Marino' 'Sao Tome and Principe' 'Saudi Arabia'\n",
      " 'Senegal' 'Serbia' 'Seychelles' 'Sierra Leone' 'Singapore'\n",
      " 'Sint Maarten (Dutch part)' 'Slovak Republic' 'Slovenia'\n",
      " 'Solomon Islands' 'Somalia' 'South Africa' 'South Sudan' 'Spain'\n",
      " 'Sri Lanka' 'St. Kitts and Nevis' 'St. Lucia' 'St. Martin (French part)'\n",
      " 'St. Vincent and the Grenadines' 'Sudan' 'Suriname' 'Sweden'\n",
      " 'Switzerland' 'Syrian Arab Republic' 'Tajikistan' 'Tanzania' 'Thailand'\n",
      " 'Timor-Leste' 'Togo' 'Tonga' 'Trinidad and Tobago' 'Tunisia' 'Turkiye'\n",
      " 'Turkmenistan' 'Turks and Caicos Islands' 'Tuvalu' 'Uganda' 'Ukraine'\n",
      " 'United Arab Emirates' 'United Kingdom' 'United States' 'Uruguay'\n",
      " 'Uzbekistan' 'Vanuatu' 'Venezuela, RB' 'Viet Nam' 'Virgin Islands (U.S.)'\n",
      " 'West Bank and Gaza' 'Yemen, Rep.' 'Zambia' 'Zimbabwe'\n",
      " 'Africa Eastern and Southern' 'Africa Western and Central' 'Arab World'\n",
      " 'Caribbean small states' 'Central Europe and the Baltics'\n",
      " 'Early-demographic dividend' 'East Asia & Pacific'\n",
      " 'East Asia & Pacific (excluding high income)'\n",
      " 'East Asia & Pacific (IDA & IBRD countries)' 'Euro area'\n",
      " 'Europe & Central Asia' 'Europe & Central Asia (excluding high income)'\n",
      " 'Europe & Central Asia (IDA & IBRD countries)' 'European Union'\n",
      " 'Fragile and conflict affected situations'\n",
      " 'Heavily indebted poor countries (HIPC)' 'High income' 'IBRD only'\n",
      " 'IDA & IBRD total' 'IDA blend' 'IDA only' 'IDA total'\n",
      " 'Late-demographic dividend' 'Latin America & Caribbean'\n",
      " 'Latin America & Caribbean (excluding high income)'\n",
      " 'Latin America & the Caribbean (IDA & IBRD countries)'\n",
      " 'Least developed countries: UN classification' 'Low & middle income'\n",
      " 'Low income' 'Lower middle income' 'Middle East & North Africa'\n",
      " 'Middle East & North Africa (excluding high income)'\n",
      " 'Middle East & North Africa (IDA & IBRD countries)' 'Middle income'\n",
      " 'North America' 'Not classified' 'OECD members' 'Other small states'\n",
      " 'Pacific island small states' 'Post-demographic dividend'\n",
      " 'Pre-demographic dividend' 'Small states' 'South Asia'\n",
      " 'South Asia (IDA & IBRD)' 'Sub-Saharan Africa'\n",
      " 'Sub-Saharan Africa (excluding high income)'\n",
      " 'Sub-Saharan Africa (IDA & IBRD countries)' 'Upper middle income' 'World'\n",
      " nan 'Indicator Name' 'Population, total']\n"
     ]
    }
   ],
   "source": [
    "print(df['Country Name'].unique())\n"
   ]
  },
  {
   "cell_type": "code",
   "execution_count": 77,
   "id": "8332e4f0",
   "metadata": {},
   "outputs": [
    {
     "name": "stdout",
     "output_type": "stream",
     "text": [
      "\n",
      " total no of unique countries: 268\n"
     ]
    }
   ],
   "source": [
    "print('\\n total no of unique countries:',df['Country Name'].nunique())"
   ]
  },
  {
   "cell_type": "code",
   "execution_count": 78,
   "id": "5c1cd4d4",
   "metadata": {
    "scrolled": true
   },
   "outputs": [
    {
     "name": "stdout",
     "output_type": "stream",
     "text": [
      "['AFG' 'ALB' 'DZA' 'ASM' 'AND' 'AGO' 'ATG' 'ARG' 'ARM' 'ABW' 'AUS' 'AUT'\n",
      " 'AZE' 'BHS' 'BHR' 'BGD' 'BRB' 'BLR' 'BEL' 'BLZ' 'BEN' 'BMU' 'BTN' 'BOL'\n",
      " 'BIH' 'BWA' 'BRA' 'VGB' 'BRN' 'BGR' 'BFA' 'BDI' 'CPV' 'KHM' 'CMR' 'CAN'\n",
      " 'CYM' 'CAF' 'TCD' 'CHI' 'CHL' 'CHN' 'COL' 'COM' 'COD' 'COG' 'CRI' 'CIV'\n",
      " 'HRV' 'CUB' 'CUW' 'CYP' 'CZE' 'DNK' 'DJI' 'DMA' 'DOM' 'ECU' 'EGY' 'SLV'\n",
      " 'GNQ' 'ERI' 'EST' 'SWZ' 'ETH' 'FRO' 'FJI' 'FIN' 'FRA' 'PYF' 'GAB' 'GMB'\n",
      " 'GEO' 'DEU' 'GHA' 'GIB' 'GRC' 'GRL' 'GRD' 'GUM' 'GTM' 'GIN' 'GNB' 'GUY'\n",
      " 'HTI' 'HND' 'HKG' 'HUN' 'ISL' 'IND' 'IDN' 'IRN' 'IRQ' 'IRL' 'IMN' 'ISR'\n",
      " 'ITA' 'JAM' 'JPN' 'JOR' 'KAZ' 'KEN' 'KIR' 'PRK' 'KOR' 'XKX' 'KWT' 'KGZ'\n",
      " 'LAO' 'LVA' 'LBN' 'LSO' 'LBR' 'LBY' 'LIE' 'LTU' 'LUX' 'MAC' 'MDG' 'MWI'\n",
      " 'MYS' 'MDV' 'MLI' 'MLT' 'MHL' 'MRT' 'MUS' 'MEX' 'FSM' 'MDA' 'MCO' 'MNG'\n",
      " 'MNE' 'MAR' 'MOZ' 'MMR' 'NAM' 'NRU' 'NPL' 'NLD' 'NCL' 'NZL' 'NIC' 'NER'\n",
      " 'NGA' 'MKD' 'MNP' 'NOR' 'OMN' 'PAK' 'PLW' 'PAN' 'PNG' 'PRY' 'PER' 'PHL'\n",
      " 'POL' 'PRT' 'PRI' 'QAT' 'ROU' 'RUS' 'RWA' 'WSM' 'SMR' 'STP' 'SAU' 'SEN'\n",
      " 'SRB' 'SYC' 'SLE' 'SGP' 'SXM' 'SVK' 'SVN' 'SLB' 'SOM' 'ZAF' 'SSD' 'ESP'\n",
      " 'LKA' 'KNA' 'LCA' 'MAF' 'VCT' 'SDN' 'SUR' 'SWE' 'CHE' 'SYR' 'TJK' 'TZA'\n",
      " 'THA' 'TLS' 'TGO' 'TON' 'TTO' 'TUN' 'TUR' 'TKM' 'TCA' 'TUV' 'UGA' 'UKR'\n",
      " 'ARE' 'GBR' 'USA' 'URY' 'UZB' 'VUT' 'VEN' 'VNM' 'VIR' 'PSE' 'YEM' 'ZMB'\n",
      " 'ZWE' 'AFE' 'AFW' 'ARB' 'CSS' 'CEB' 'EAR' 'EAS' 'EAP' 'TEA' 'EMU' 'ECS'\n",
      " 'ECA' 'TEC' 'EUU' 'FCS' 'HPC' 'HIC' 'IBD' 'IBT' 'IDB' 'IDX' 'IDA' 'LTE'\n",
      " 'LCN' 'LAC' 'TLA' 'LDC' 'LMY' 'LIC' 'LMC' 'MEA' 'MNA' 'TMN' 'MIC' 'NAC'\n",
      " 'INX' 'OED' 'OSS' 'PSS' 'PST' 'PRE' 'SST' 'SAS' 'TSA' 'SSF' 'SSA' 'TSS'\n",
      " 'UMC' 'WLD' nan 'Long definition'\n",
      " 'Total population is based on the de facto definition of population, which counts all residents regardless of legal status or citizenship. The values shown are midyear estimates.']\n",
      "\n",
      " total no of unique country code: 268\n"
     ]
    }
   ],
   "source": [
    "print(df['Country Code'].unique())\n",
    "print('\\n total no of unique country code:',df['Country Code'].nunique())"
   ]
  },
  {
   "cell_type": "markdown",
   "id": "30f38a42",
   "metadata": {},
   "source": [
    "# dropping unnecessay column"
   ]
  },
  {
   "cell_type": "code",
   "execution_count": 79,
   "id": "5035dae4",
   "metadata": {},
   "outputs": [],
   "source": [
    "df.drop(['Series Name','Country Name'],axis=1,inplace=True)"
   ]
  },
  {
   "cell_type": "markdown",
   "id": "cb954b82",
   "metadata": {},
   "source": [
    "## Extraction of top 10 country with respect to total population"
   ]
  },
  {
   "cell_type": "code",
   "execution_count": 80,
   "id": "869cb174",
   "metadata": {},
   "outputs": [],
   "source": [
    "# Filter Data for total population \n",
    "total_population_data = df[df['Series Code']=='SP.POP.TOTL']\n",
    "\n"
   ]
  },
  {
   "cell_type": "code",
   "execution_count": 81,
   "id": "a460aaf0",
   "metadata": {},
   "outputs": [
    {
     "name": "stdout",
     "output_type": "stream",
     "text": [
      "Index(['Series Code', 'Country Code', '1990 [YR1990]', '2000 [YR2000]',\n",
      "       '2014 [YR2014]', '2015 [YR2015]', '2016 [YR2016]', '2017 [YR2017]',\n",
      "       '2018 [YR2018]', '2019 [YR2019]', '2020 [YR2020]', '2021 [YR2021]',\n",
      "       '2022 [YR2022]', '2023 [YR2023]'],\n",
      "      dtype='object')\n"
     ]
    }
   ],
   "source": [
    "print(total_population_data.columns)"
   ]
  },
  {
   "cell_type": "code",
   "execution_count": 82,
   "id": "d58834ac",
   "metadata": {},
   "outputs": [
    {
     "name": "stdout",
     "output_type": "stream",
     "text": [
      "   Series Code Country Code 1990 [YR1990] 2000 [YR2000] 2014 [YR2014]  \\\n",
      "0  SP.POP.TOTL          AFG      10694796      19542982      32716210   \n",
      "1  SP.POP.TOTL          ALB       3286542       3089027       2889104   \n",
      "2  SP.POP.TOTL          DZA      25518074      30774621      38760168   \n",
      "3  SP.POP.TOTL          ASM         47818         58230         52217   \n",
      "4  SP.POP.TOTL          AND         53569         66097         71621   \n",
      "\n",
      "  2015 [YR2015] 2016 [YR2016] 2017 [YR2017] 2018 [YR2018] 2019 [YR2019]  \\\n",
      "0      33753499      34636207      35643418      36686784      37769499   \n",
      "1       2880703       2876101       2873457       2866376       2854191   \n",
      "2      39543154      40339329      41136546      41927007      42705368   \n",
      "3         51368         50448         49463         48424         47321   \n",
      "4         71746         72540         73837         75013         76343   \n",
      "\n",
      "  2020 [YR2020] 2021 [YR2021] 2022 [YR2022] 2023 [YR2023]  \n",
      "0      38972230      40099462      41128771      42239854  \n",
      "1       2837849       2811666       2777689       2745972  \n",
      "2      43451666      44177969      44903225      45606480  \n",
      "3         46189         45035         44273         43914  \n",
      "4         77700         79034         79824         80088  \n"
     ]
    }
   ],
   "source": [
    "print(total_population_data.head())"
   ]
  },
  {
   "cell_type": "code",
   "execution_count": 83,
   "id": "e9ca6923",
   "metadata": {},
   "outputs": [
    {
     "name": "stdout",
     "output_type": "stream",
     "text": [
      "Top ten countries with the highest total population:\n",
      "\n",
      "    Country Code\n",
      "190          TJK\n",
      "44           COD\n",
      "211          VNM\n",
      "87           HUN\n",
      "95           ISR\n",
      "204          ARE\n",
      "6            ATG\n",
      "66           FJI\n",
      "17           BLR\n",
      "227          ECS\n"
     ]
    }
   ],
   "source": [
    "try:\n",
    "    total_population_sorted = total_population_data.sort_values(by=\"2022 [YR2022]\", ascending=False)\n",
    "    # Get the top ten countries with the highest total population for 2022\n",
    "    total_top_ten_countries = total_population_sorted.head(10)\n",
    "    print(\"Top ten countries with the highest total population:\\n\")\n",
    "    print(total_top_ten_countries[['Country Code']])\n",
    "except KeyError as e:\n",
    "    print(f\"Column not found: {e}\")"
   ]
  },
  {
   "cell_type": "markdown",
   "id": "694665d4",
   "metadata": {},
   "source": [
    "# Bar Plot "
   ]
  },
  {
   "cell_type": "markdown",
   "id": "cd1944b8",
   "metadata": {},
   "source": [
    "# top ten countries of total population in year 2022 and 2016"
   ]
  },
  {
   "cell_type": "code",
   "execution_count": 85,
   "id": "2b4d88da",
   "metadata": {},
   "outputs": [
    {
     "name": "stdout",
     "output_type": "stream",
     "text": [
      "Index(['Series Code', 'Country Code', '1990 [YR1990]', '2000 [YR2000]',\n",
      "       '2014 [YR2014]', '2015 [YR2015]', '2016 [YR2016]', '2017 [YR2017]',\n",
      "       '2018 [YR2018]', '2019 [YR2019]', '2020 [YR2020]', '2021 [YR2021]',\n",
      "       '2022 [YR2022]', '2023 [YR2023]'],\n",
      "      dtype='object')\n",
      "     Series Code Country Code 1990 [YR1990] 2000 [YR2000] 2014 [YR2014]  \\\n",
      "190  SP.POP.TOTL          TJK       5417860       6272998       8326348   \n",
      "44   SP.POP.TOTL          COD      35987541      48616317      76035588   \n",
      "211  SP.POP.TOTL          VNM      66912613      79001142      91235504   \n",
      "87   SP.POP.TOTL          HUN      10373988      10210971       9866468   \n",
      "95   SP.POP.TOTL          ISR       4660000       6289000       8215700   \n",
      "\n",
      "    2015 [YR2015] 2016 [YR2016] 2017 [YR2017] 2018 [YR2018] 2019 [YR2019]  \\\n",
      "190       8524063       8725318       8925525       9128132       9337003   \n",
      "44       78656904      81430977      84283273      87087355      89906890   \n",
      "211      92191398      93126529      94033048      94914330      95776716   \n",
      "87        9843028       9814023       9787966       9775564       9771141   \n",
      "95        8380100       8546000       8713300       8882800       9054000   \n",
      "\n",
      "    2020 [YR2020] 2021 [YR2021] 2022 [YR2022] 2023 [YR2023]  \n",
      "190       9543207       9750064       9952787      10143543  \n",
      "44       92853164      95894118      99010212     102262808  \n",
      "211      96648685      97468029      98186856      98858950  \n",
      "87        9750149       9709891       9643048       9589872  \n",
      "95        9215100       9371400       9557500       9756700  \n"
     ]
    }
   ],
   "source": [
    "print(total_top_ten_countries.columns)\n",
    "print(total_top_ten_countries.head())\n"
   ]
  },
  {
   "cell_type": "code",
   "execution_count": 86,
   "id": "7e63d3b9",
   "metadata": {},
   "outputs": [
    {
     "name": "stderr",
     "output_type": "stream",
     "text": [
      "C:\\Users\\abhay agrahari\\AppData\\Local\\Temp\\ipykernel_22896\\2487570092.py:5: SettingWithCopyWarning: \n",
      "A value is trying to be set on a copy of a slice from a DataFrame.\n",
      "Try using .loc[row_indexer,col_indexer] = value instead\n",
      "\n",
      "See the caveats in the documentation: https://pandas.pydata.org/pandas-docs/stable/user_guide/indexing.html#returning-a-view-versus-a-copy\n",
      "  total_top_ten_countries[\"2022 [YR2022]\"] = pd.to_numeric(total_top_ten_countries[\"2022 [YR2022]\"], errors='coerce')\n",
      "C:\\Users\\abhay agrahari\\AppData\\Local\\Temp\\ipykernel_22896\\2487570092.py:6: SettingWithCopyWarning: \n",
      "A value is trying to be set on a copy of a slice from a DataFrame.\n",
      "Try using .loc[row_indexer,col_indexer] = value instead\n",
      "\n",
      "See the caveats in the documentation: https://pandas.pydata.org/pandas-docs/stable/user_guide/indexing.html#returning-a-view-versus-a-copy\n",
      "  total_top_ten_countries[\"2016 [YR2016]\"] = pd.to_numeric(total_top_ten_countries[\"2016 [YR2016]\"], errors='coerce')\n"
     ]
    },
    {
     "data": {
      "text/plain": [
       "Text(0, 0.5, 'Country Code')"
      ]
     },
     "execution_count": 86,
     "metadata": {},
     "output_type": "execute_result"
    },
    {
     "data": {
      "image/png": "[encoded data removed]",
      "text/plain": [
       "<Figure size 1500x600 with 1 Axes>"
      ]
     },
     "metadata": {},
     "output_type": "display_data"
    }
   ],
   "source": [
    "\n",
    "# Strip any leading/trailing spaces from column names\n",
    "total_top_ten_countries.columns = total_top_ten_countries.columns.str.strip()\n",
    "\n",
    "# Ensure numeric columns\n",
    "total_top_ten_countries[\"2022 [YR2022]\"] = pd.to_numeric(total_top_ten_countries[\"2022 [YR2022]\"], errors='coerce')\n",
    "total_top_ten_countries[\"2016 [YR2016]\"] = pd.to_numeric(total_top_ten_countries[\"2016 [YR2016]\"], errors='coerce')\n",
    "\n",
    "# Create bar plots\n",
    "plt.figure(figsize=(15, 6))\n",
    "\n",
    "# First subplot\n",
    "plt.subplot(2, 2, 1)\n",
    "sns.barplot(x=\"2022 [YR2022]\", y=\"Country Code\", data=total_top_ten_countries, palette=\"viridis\")\n",
    "plt.title(\"Top Ten Countries by Total Population (2022 [YR2022])\", fontsize=10)\n",
    "plt.xlabel(\"Total Population\", fontsize=10)\n",
    "plt.ylabel(\"Country Code\", fontsize=10)\n"
   ]
  },
  {
   "cell_type": "code",
   "execution_count": 87,
   "id": "4418a0f1",
   "metadata": {
    "scrolled": true
   },
   "outputs": [
    {
     "data": {
      "image/png": "[encoded data removed]",
      "text/plain": [
       "<Figure size 640x480 with 1 Axes>"
      ]
     },
     "metadata": {},
     "output_type": "display_data"
    }
   ],
   "source": [
    "# Second subplot\n",
    "plt.subplot(2, 2, 2)\n",
    "sns.barplot(x=\"2016 [YR2016]\", y=\"Country Code\", data=total_top_ten_countries, palette=\"viridis\")\n",
    "plt.title(\"Top Ten Countries by Total Population (2016 [YR2016])\", fontsize=10)\n",
    "plt.xlabel(\"Total Population\", fontsize=10)\n",
    "plt.ylabel(\"Country Code\", fontsize=10)\n",
    "\n",
    "plt.tight_layout()\n",
    "plt.show()\n"
   ]
  },
  {
   "cell_type": "markdown",
   "id": "37f28e6f",
   "metadata": {},
   "source": [
    "# Extarction of top 10 countries with highest male population"
   ]
  },
  {
   "cell_type": "code",
   "execution_count": 88,
   "id": "5bf03b9e",
   "metadata": {},
   "outputs": [],
   "source": [
    "# filter data for male population\n",
    "male_population_data = df[df['Series Code']=='SP.POP.TOTL.MA.IN']\n",
    "\n"
   ]
  },
  {
   "cell_type": "code",
   "execution_count": 89,
   "id": "71ec6223",
   "metadata": {},
   "outputs": [
    {
     "name": "stdout",
     "output_type": "stream",
     "text": [
      "Index(['Series Code', 'Country Code', '1990 [YR1990]', '2000 [YR2000]',\n",
      "       '2014 [YR2014]', '2015 [YR2015]', '2016 [YR2016]', '2017 [YR2017]',\n",
      "       '2018 [YR2018]', '2019 [YR2019]', '2020 [YR2020]', '2021 [YR2021]',\n",
      "       '2022 [YR2022]', '2023 [YR2023]'],\n",
      "      dtype='object')\n"
     ]
    }
   ],
   "source": [
    "print(male_population_data.columns)"
   ]
  },
  {
   "cell_type": "code",
   "execution_count": 90,
   "id": "e75d5470",
   "metadata": {},
   "outputs": [
    {
     "name": "stdout",
     "output_type": "stream",
     "text": [
      "Empty DataFrame\n",
      "Columns: [Series Code, Country Code, 1990 [YR1990], 2000 [YR2000], 2014 [YR2014], 2015 [YR2015], 2016 [YR2016], 2017 [YR2017], 2018 [YR2018], 2019 [YR2019], 2020 [YR2020], 2021 [YR2021], 2022 [YR2022], 2023 [YR2023]]\n",
      "Index: []\n"
     ]
    }
   ],
   "source": [
    "print(male_population_data.head())"
   ]
  },
  {
   "cell_type": "code",
   "execution_count": 91,
   "id": "a494a237",
   "metadata": {},
   "outputs": [
    {
     "name": "stdout",
     "output_type": "stream",
     "text": [
      " Top ten countries of male population\n",
      "Empty DataFrame\n",
      "Columns: [Country Code]\n",
      "Index: []\n"
     ]
    }
   ],
   "source": [
    "try:\n",
    "    # sort data based on the male population for 2022\n",
    "    male_population_sorted = male_population_data.sort_values(by=\"2022 [YR2022]\", ascending=False)\n",
    "    # Get the top 10 countries with the highest male population for 2022\n",
    "    male_top_ten_countries = male_population_sorted.head(10)\n",
    "    print(\" Top ten countries of male population\")\n",
    "    print(male_top_ten_countries[['Country Code']])\n",
    "except KeyError as e:\n",
    "    print(f\"Column not found: {e}\")"
   ]
  },
  {
   "cell_type": "code",
   "execution_count": null,
   "id": "e730c5e3",
   "metadata": {},
   "outputs": [],
   "source": []
  },
  {
   "cell_type": "code",
   "execution_count": null,
   "id": "61c55f94",
   "metadata": {},
   "outputs": [],
   "source": []
  }
 ],
 "metadata": {
  "kernelspec": {
   "display_name": "Python 3 (ipykernel)",
   "language": "python",
   "name": "python3"
  },
  "language_info": {
   "codemirror_mode": {
    "name": "ipython",
    "version": 3
   },
   "file_extension": ".py",
   "mimetype": "text/x-python",
   "name": "python",
   "nbconvert_exporter": "python",
   "pygments_lexer": "ipython3",
   "version": "3.10.9"
  }
 },
 "nbformat": 4,
 "nbformat_minor": 5
}
